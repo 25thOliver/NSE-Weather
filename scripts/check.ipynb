{
 "cells": [
  {
   "cell_type": "code",
   "execution_count": 1,
   "id": "cd60339b",
   "metadata": {},
   "outputs": [],
   "source": [
    "import pandas as pd"
   ]
  },
  {
   "cell_type": "code",
   "execution_count": 2,
   "id": "f5074515",
   "metadata": {},
   "outputs": [],
   "source": [
    "df = pd.read_csv(\"south_africa_top40.csv\")"
   ]
  },
  {
   "cell_type": "code",
   "execution_count": 3,
   "id": "997bc31b",
   "metadata": {},
   "outputs": [
    {
     "data": {
      "text/plain": [
       "(3694, 7)"
      ]
     },
     "execution_count": 3,
     "metadata": {},
     "output_type": "execute_result"
    }
   ],
   "source": [
    "df.shape"
   ]
  },
  {
   "cell_type": "code",
   "execution_count": 4,
   "id": "a32e1f11",
   "metadata": {},
   "outputs": [
    {
     "data": {
      "text/plain": [
       "['Date', 'Price', 'Open', 'High', 'Low', 'Vol.', 'Change %']"
      ]
     },
     "execution_count": 4,
     "metadata": {},
     "output_type": "execute_result"
    }
   ],
   "source": [
    "df.columns.tolist()"
   ]
  },
  {
   "cell_type": "code",
   "execution_count": 5,
   "id": "2a522378",
   "metadata": {},
   "outputs": [
    {
     "name": "stdout",
     "output_type": "stream",
     "text": [
      "<class 'pandas.core.frame.DataFrame'>\n",
      "RangeIndex: 3694 entries, 0 to 3693\n",
      "Data columns (total 7 columns):\n",
      " #   Column    Non-Null Count  Dtype \n",
      "---  ------    --------------  ----- \n",
      " 0   Date      3694 non-null   object\n",
      " 1   Price     3694 non-null   object\n",
      " 2   Open      3694 non-null   object\n",
      " 3   High      3694 non-null   object\n",
      " 4   Low       3694 non-null   object\n",
      " 5   Vol.      3639 non-null   object\n",
      " 6   Change %  3694 non-null   object\n",
      "dtypes: object(7)\n",
      "memory usage: 202.1+ KB\n"
     ]
    }
   ],
   "source": [
    "df.info()"
   ]
  },
  {
   "cell_type": "code",
   "execution_count": 6,
   "id": "0d499fbf",
   "metadata": {},
   "outputs": [
    {
     "data": {
      "text/plain": [
       "Date         0\n",
       "Price        0\n",
       "Open         0\n",
       "High         0\n",
       "Low          0\n",
       "Vol.        55\n",
       "Change %     0\n",
       "dtype: int64"
      ]
     },
     "execution_count": 6,
     "metadata": {},
     "output_type": "execute_result"
    }
   ],
   "source": [
    "df.isnull().sum()"
   ]
  },
  {
   "cell_type": "code",
   "execution_count": 7,
   "id": "3d0783b6",
   "metadata": {},
   "outputs": [
    {
     "data": {
      "text/html": [
       "<div>\n",
       "<style scoped>\n",
       "    .dataframe tbody tr th:only-of-type {\n",
       "        vertical-align: middle;\n",
       "    }\n",
       "\n",
       "    .dataframe tbody tr th {\n",
       "        vertical-align: top;\n",
       "    }\n",
       "\n",
       "    .dataframe thead th {\n",
       "        text-align: right;\n",
       "    }\n",
       "</style>\n",
       "<table border=\"1\" class=\"dataframe\">\n",
       "  <thead>\n",
       "    <tr style=\"text-align: right;\">\n",
       "      <th></th>\n",
       "      <th>Date</th>\n",
       "      <th>Price</th>\n",
       "      <th>Open</th>\n",
       "      <th>High</th>\n",
       "      <th>Low</th>\n",
       "      <th>Vol.</th>\n",
       "      <th>Change %</th>\n",
       "    </tr>\n",
       "  </thead>\n",
       "  <tbody>\n",
       "    <tr>\n",
       "      <th>0</th>\n",
       "      <td>11/10/2024</td>\n",
       "      <td>78,006.74</td>\n",
       "      <td>77,368.30</td>\n",
       "      <td>78,154.08</td>\n",
       "      <td>77,202.30</td>\n",
       "      <td>0.00K</td>\n",
       "      <td>0.83%</td>\n",
       "    </tr>\n",
       "    <tr>\n",
       "      <th>1</th>\n",
       "      <td>10/10/2024</td>\n",
       "      <td>77,368.30</td>\n",
       "      <td>77,334.10</td>\n",
       "      <td>77,677.22</td>\n",
       "      <td>77,159.78</td>\n",
       "      <td>150.58M</td>\n",
       "      <td>0.04%</td>\n",
       "    </tr>\n",
       "    <tr>\n",
       "      <th>2</th>\n",
       "      <td>09/10/2024</td>\n",
       "      <td>77,334.10</td>\n",
       "      <td>77,473.00</td>\n",
       "      <td>77,532.03</td>\n",
       "      <td>76,641.60</td>\n",
       "      <td>107.36M</td>\n",
       "      <td>-0.18%</td>\n",
       "    </tr>\n",
       "    <tr>\n",
       "      <th>3</th>\n",
       "      <td>08/10/2024</td>\n",
       "      <td>77,473.00</td>\n",
       "      <td>78,303.35</td>\n",
       "      <td>78,322.19</td>\n",
       "      <td>76,818.21</td>\n",
       "      <td>154.72M</td>\n",
       "      <td>-1.06%</td>\n",
       "    </tr>\n",
       "    <tr>\n",
       "      <th>4</th>\n",
       "      <td>07/10/2024</td>\n",
       "      <td>78,303.35</td>\n",
       "      <td>78,282.37</td>\n",
       "      <td>78,622.15</td>\n",
       "      <td>78,104.27</td>\n",
       "      <td>110.32M</td>\n",
       "      <td>0.03%</td>\n",
       "    </tr>\n",
       "  </tbody>\n",
       "</table>\n",
       "</div>"
      ],
      "text/plain": [
       "         Date      Price       Open       High        Low     Vol. Change %\n",
       "0  11/10/2024  78,006.74  77,368.30  78,154.08  77,202.30    0.00K    0.83%\n",
       "1  10/10/2024  77,368.30  77,334.10  77,677.22  77,159.78  150.58M    0.04%\n",
       "2  09/10/2024  77,334.10  77,473.00  77,532.03  76,641.60  107.36M   -0.18%\n",
       "3  08/10/2024  77,473.00  78,303.35  78,322.19  76,818.21  154.72M   -1.06%\n",
       "4  07/10/2024  78,303.35  78,282.37  78,622.15  78,104.27  110.32M    0.03%"
      ]
     },
     "execution_count": 7,
     "metadata": {},
     "output_type": "execute_result"
    }
   ],
   "source": [
    "df.head()"
   ]
  }
 ],
 "metadata": {
  "kernelspec": {
   "display_name": "airflow-env (3.11.9)",
   "language": "python",
   "name": "python3"
  },
  "language_info": {
   "codemirror_mode": {
    "name": "ipython",
    "version": 3
   },
   "file_extension": ".py",
   "mimetype": "text/x-python",
   "name": "python",
   "nbconvert_exporter": "python",
   "pygments_lexer": "ipython3",
   "version": "3.11.9"
  }
 },
 "nbformat": 4,
 "nbformat_minor": 5
}
